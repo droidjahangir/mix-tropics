{
 "cells": [
  {
   "cell_type": "markdown",
   "metadata": {},
   "source": [
    "# 1. Coursera - Statistics \n",
    "link - https://www.coursera.org/specializations/statistics ( Duke university )"
   ]
  },
  {
   "cell_type": "markdown",
   "metadata": {},
   "source": [
    "## Course - 1 :\n",
    "**Introduction to Probability and Data**\n",
    "\n",
    "### Tropics\n",
    "\n",
    "* Introduction to Data\n",
    "* Exploratory Data Analysis and Introduction to Inference\n",
    "* Introduction to Probability\n",
    "* Probability Distributions"
   ]
  },
  {
   "cell_type": "markdown",
   "metadata": {},
   "source": [
    " "
   ]
  },
  {
   "cell_type": "markdown",
   "metadata": {},
   "source": [
    "### Course - 2 :\n",
    "__Inferential Statistics__\n",
    "\n",
    "### Tropics\n",
    "\n",
    "* Central Limit Theorem and Confidence Interval\n",
    "* Inference and Significance\n",
    "* Inference for Comparing Means\n",
    "* Inference for Proportions"
   ]
  },
  {
   "cell_type": "markdown",
   "metadata": {},
   "source": [
    "## Course - 3 :\n",
    "__Linear Regression and Modeling__\n",
    "\n",
    "### Tropics\n",
    "* Linear Regression\n",
    "* Multiple Regression"
   ]
  },
  {
   "cell_type": "markdown",
   "metadata": {},
   "source": [
    "## Course - 4 :\n",
    "__Bayesian Statistics__\n",
    "\n",
    "### Tropics\n",
    "* The Basics of Bayesian Statistics\n",
    "* Bayesian Inference\n",
    "* Decision Making\n",
    "* Bayesian Regression"
   ]
  },
  {
   "cell_type": "markdown",
   "metadata": {},
   "source": [
    "# 2. Carnegie Mellon University\n",
    "\n",
    "### Course outline\n",
    "\n",
    "1. Introduction and Review\n",
    "    * Statistics versus ML\n",
    "    * concentration\n",
    "    * bias and variance\n",
    "    * minimax\n",
    "    * linear regression\n",
    "    * linear classification\n",
    "    * logistic regression\n",
    "\n",
    "2. Nonparametric Inference\n",
    "    * Density Estimation\n",
    "    * Nonparametric Regression Regression\n",
    "        * kernels\n",
    "        * local polynomial\n",
    "        * NN\n",
    "        * RKHS\n",
    "\n",
    "    * Nonparametric Classification\n",
    "        * plug-in\n",
    "        * nn\n",
    "        * density-based\n",
    "        * kernelized SVM\n",
    "        * trees\n",
    "        * random forests\n",
    "\n",
    "3. High Dimensional Methods\n",
    "\n",
    "    * Forward stepwise regression\n",
    "    * Lasso\n",
    "    * Ridge Regression\n",
    "    * High dimensional classification\n",
    "\n",
    "4. Clustering\n",
    "5. Graphical models\n",
    "6. Minimax theory\n",
    "7. Causality\n",
    "8. Dimension reduction: PCA, nonlinear\n",
    "9. Other Possible Topics\n",
    "\n",
    "    * Concentration of measure\n",
    "    * Mixture models\n",
    "    * Wasserstein distance and optimal transport\n",
    "    * boosting\n",
    "    * active learning\n",
    "    * nonparametric bayes\n",
    "    * deep learning\n",
    "    * differential privacy\n",
    "    * interactive data analysis\n",
    "    * multinomials\n",
    "    * statistics compuational tradeoff\n",
    "    * andom matrices\n",
    "    * conformal methods\n",
    "\n",
    "\n"
   ]
  },
  {
   "cell_type": "code",
   "execution_count": null,
   "metadata": {},
   "outputs": [],
   "source": []
  }
 ],
 "metadata": {
  "kernelspec": {
   "display_name": "Python 3",
   "language": "python",
   "name": "python3"
  },
  "language_info": {
   "codemirror_mode": {
    "name": "ipython",
    "version": 3
   },
   "file_extension": ".py",
   "mimetype": "text/x-python",
   "name": "python",
   "nbconvert_exporter": "python",
   "pygments_lexer": "ipython3",
   "version": "3.6.4"
  }
 },
 "nbformat": 4,
 "nbformat_minor": 2
}
