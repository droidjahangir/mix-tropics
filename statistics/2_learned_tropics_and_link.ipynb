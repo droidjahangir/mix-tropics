{
 "cells": [
  {
   "cell_type": "markdown",
   "metadata": {},
   "source": [
    "# 1. Descriptive Statistics\n",
    "link-1 : https://towardsdatascience.com/intro-to-descriptive-statistics-252e9c464ac9 - Medium\n",
    "\n",
    "link-2 : https://towardsdatascience.com/understanding-descriptive-statistics-c9c2b0641291\n",
    "\n",
    "* Normal Distribution\n",
    "* Central Tendency (mean, mode, median)\n",
    "* Measures of Variability (range, interquartile range)\n",
    "* Variance and Standard Deviation\n",
    "* Modality\n",
    "* Skewness\n",
    "* Kurtosis\n",
    "* Correlation"
   ]
  },
  {
   "cell_type": "markdown",
   "metadata": {},
   "source": [
    "# 2. Population vs Sample , Statistic vs Parameter\n",
    "link : https://medium.com/@ivolinengong/population-vs-sample-statistic-vs-parameter-cae1de201356\n",
    "\n",
    "* Population vs Sample\n",
    "* Statistic vs Parameter"
   ]
  },
  {
   "cell_type": "markdown",
   "metadata": {},
   "source": [
    "# 3. Basic Statistics Every Data Scientist Should Know\n",
    "link : https://medium.com/codezillas/statistics-review-for-data-scientists-and-management-df8f94760221"
   ]
  },
  {
   "cell_type": "markdown",
   "metadata": {},
   "source": [
    "# 4. Discrete and continuous data\n",
    "* link-1 : https://www.youtube.com/watch?v=6IdJ1aPFDCs\n",
    "* link-2 : https://www.youtube.com/watch?v=ikPkKfRi9dM (best)"
   ]
  },
  {
   "cell_type": "code",
   "execution_count": null,
   "metadata": {},
   "outputs": [],
   "source": []
  }
 ],
 "metadata": {
  "kernelspec": {
   "display_name": "Python 3",
   "language": "python",
   "name": "python3"
  },
  "language_info": {
   "codemirror_mode": {
    "name": "ipython",
    "version": 3
   },
   "file_extension": ".py",
   "mimetype": "text/x-python",
   "name": "python",
   "nbconvert_exporter": "python",
   "pygments_lexer": "ipython3",
   "version": "3.6.4"
  }
 },
 "nbformat": 4,
 "nbformat_minor": 2
}
