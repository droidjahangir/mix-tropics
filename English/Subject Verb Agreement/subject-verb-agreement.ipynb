{
 "cells": [
  {
   "cell_type": "markdown",
   "metadata": {},
   "source": [
    "# Subject Verb Agreement.......\n",
    "![subject verb agreement](./images/subject-verb-agreement1.jpg)\n",
    "![subject verb agreement](./images/subject-verb-agreement2.jpg)\n",
    "![subject verb agreement](./images/subject-verb-agreement3.jpg)\n",
    "![subject verb agreement](./images/subject-verb-agreement4.jpg)\n",
    "![subject verb agreement](./images/subject-verb-agreement5.jpg)"
   ]
  },
  {
   "cell_type": "code",
   "execution_count": null,
   "metadata": {},
   "outputs": [],
   "source": []
  }
 ],
 "metadata": {
  "kernelspec": {
   "display_name": "Python 3",
   "language": "python",
   "name": "python3"
  },
  "language_info": {
   "codemirror_mode": {
    "name": "ipython",
    "version": 3
   },
   "file_extension": ".py",
   "mimetype": "text/x-python",
   "name": "python",
   "nbconvert_exporter": "python",
   "pygments_lexer": "ipython3",
   "version": "3.7.0"
  }
 },
 "nbformat": 4,
 "nbformat_minor": 2
}
