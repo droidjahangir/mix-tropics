{
 "cells": [
  {
   "cell_type": "markdown",
   "metadata": {},
   "source": [
    "# Some Confusing words.........\n",
    "![some confusing words](./images/confusing1.jpg)\n",
    "![some confusing words](./images/confusing2.jpg)\n",
    "![some confusing words](./images/confusing3.jpg)\n",
    "![some confusing words](./images/confusing4.jpg)\n",
    "![some confusing words](./images/confusing5.jpg)\n",
    "![some confusing words](./images/confusing6.jpg)\n",
    "![some confusing words](./images/confusing7.jpg)\n",
    "![some confusing words](./images/confusing8.jpg)\n",
    "![some confusing words](./images/confusing9.jpg)\n",
    "![some confusing words](./images/confusing10.jpg)"
   ]
  },
  {
   "cell_type": "code",
   "execution_count": null,
   "metadata": {},
   "outputs": [],
   "source": []
  }
 ],
 "metadata": {
  "kernelspec": {
   "display_name": "Python 3",
   "language": "python",
   "name": "python3"
  },
  "language_info": {
   "codemirror_mode": {
    "name": "ipython",
    "version": 3
   },
   "file_extension": ".py",
   "mimetype": "text/x-python",
   "name": "python",
   "nbconvert_exporter": "python",
   "pygments_lexer": "ipython3",
   "version": "3.7.0"
  }
 },
 "nbformat": 4,
 "nbformat_minor": 2
}
